{
 "cells": [
  {
   "cell_type": "code",
   "execution_count": null,
   "metadata": {},
   "outputs": [],
   "source": [
    "# Dependencies\n",
    "import requests\n",
    "import json\n",
    "import pandas as pd\n",
    "from pprint import pprint\n",
    "from config import client_id, client_secret"
   ]
  },
  {
   "cell_type": "markdown",
   "metadata": {},
   "source": [
    "Following instructions from: https://stmorse.github.io/journal/spotify-api.html\n",
    "AND from Spotify documentation:\n",
    "https://developer.spotify.com/documentation/general/guides/authorization-guide/#list-of-scopes"
   ]
  },
  {
   "cell_type": "markdown",
   "metadata": {},
   "source": [
    "## Authorization flow"
   ]
  },
  {
   "cell_type": "markdown",
   "metadata": {},
   "source": [
    "Step 1: Request authorization to access data. No code. \n",
    "- Example Grant access URL:\n",
    "https://accounts.spotify.com/authorize?response_type=code&client_id=5d67ef47a63a42f08feb4c824ee174f7&scope=user-top-read&redirect_uri=https%3A%2F%2Fgoogle.com%2Fcallback&show_dialog=true\n",
    "\n",
    "Once accept, data can now be requested.\n",
    "\n",
    "Note: if changing `scope`, this step and step 2 need to be repeated.\n",
    "Scope for the following:\n",
    "- User's Top Artists and Tracks: `user-top-read`\n",
    "- List of a User's Playlists: `playlist-read-private`"
   ]
  },
  {
   "cell_type": "code",
   "execution_count": null,
   "metadata": {},
   "outputs": [],
   "source": [
    "# Once access is granted, copy the code from the URL - THIS NEEDS TO BE RE-DEFINED EACH TIME b/c I haven't worked through how to automate this yet, lol\n",
    "code = 'AQDKKpRSCL6aFzuboEkPdhqbkmrvyQ9_upz28MxqLtKU9QtCcuRMiRxXI1oL4ZK5J0hGOrarQizqX2nvp6BFch4bYbNAz51glsuUX-BNKS_e4VVsP5hSfbIEmkygKw9cu1onqOs_xNAGUc1cIrtZo6cxZoALZdDvus83VWTaArE3oL6fKjwm8snx0QRSvg'"
   ]
  },
  {
   "cell_type": "markdown",
   "metadata": {},
   "source": [
    "Step 2: Request to get refresh and access token\n",
    "- Make POST request to Spotify on /api/token endpoint\n",
    "- Require parameters specfied accordingly."
   ]
  },
  {
   "cell_type": "code",
   "execution_count": null,
   "metadata": {},
   "outputs": [],
   "source": [
    "# POST - REQUEST BODY PARAMETER, skipping header parameter using alternative way\n",
    "request_body_parameter = {\n",
    "    'grant_type': 'authorization_code',\n",
    "    'code': code,\n",
    "    'redirect_uri': 'https://google.com/callback',\n",
    "    'client_id': client_id,\n",
    "    'client_secret': client_secret,\n",
    "}"
   ]
  },
  {
   "cell_type": "code",
   "execution_count": null,
   "metadata": {},
   "outputs": [],
   "source": [
    "# Pass an access token - POST a request with client credentials and save part of response\n",
    "AUTH_URL = 'https://accounts.spotify.com/api/token'\n",
    "\n",
    "# POST - REQUEST BODY PARAMETER\n",
    "auth_response = requests.post(AUTH_URL, request_body_parameter)\n",
    "\n",
    "# convert the response to JSON\n",
    "auth_response_data = auth_response.json()\n",
    "\n",
    "# Try print it out to get refresh_token - oh oops, don't print it out :P \n",
    "# print(auth_response_data)"
   ]
  },
  {
   "cell_type": "code",
   "execution_count": null,
   "metadata": {},
   "outputs": [],
   "source": [
    "# Save the access token\n",
    "access_token = auth_response_data['access_token']\n",
    "\n",
    "# Save the refresh token\n",
    "refresh_token = auth_response_data['refresh_token']"
   ]
  },
  {
   "cell_type": "markdown",
   "metadata": {},
   "source": [
    "Step 3: Use access token to access data of interests(?)\n",
    "- Note: when access token expires, it can't be used anymore."
   ]
  },
  {
   "cell_type": "markdown",
   "metadata": {},
   "source": [
    "#### Get a User's Top Artists and Tracks"
   ]
  },
  {
   "cell_type": "code",
   "execution_count": null,
   "metadata": {},
   "outputs": [],
   "source": [
    "# Form GET request to API server with access_token in the header\n",
    "headers = {\n",
    "    'Authorization': f'Bearer {access_token}'\n",
    "}\n",
    "\n",
    "# base URL of all Spotify API endpoints\n",
    "base_url = 'https://api.spotify.com/v1/'\n",
    "\n",
    "# user's top track\n",
    "top_track = 'me/top/tracks'\n",
    "time_range = 'time_range=medium_term'\n",
    "limit = 'limit=50'\n",
    "# offset = 'offset=0'"
   ]
  },
  {
   "cell_type": "markdown",
   "metadata": {},
   "source": [
    "##### If token expires, go to Step 4 (scroll down) and run those code; otherwise, skip"
   ]
  },
  {
   "cell_type": "code",
   "execution_count": null,
   "metadata": {},
   "outputs": [],
   "source": [
    "# Perfrom a request for data\n",
    "track_json = requests.get(base_url + top_track + '?' + time_range + '&' + limit \n",
    "#                           + '&' + offset\n",
    "                          , headers=headers).json()"
   ]
  },
  {
   "cell_type": "code",
   "execution_count": null,
   "metadata": {},
   "outputs": [],
   "source": [
    "# Save outout as json file to go parse later...\n",
    "with open('data/raw_top_tracks.json', 'w') as outfile:\n",
    "    json.dump(track_json, outfile, indent=2)"
   ]
  },
  {
   "cell_type": "markdown",
   "metadata": {},
   "source": [
    "Step 4: When access token expires, refresh token to the rescue (from step 2)"
   ]
  },
  {
   "cell_type": "code",
   "execution_count": null,
   "metadata": {},
   "outputs": [],
   "source": [
    "# Base 64 encoded string that contains the client ID and client secret key.\n",
    "import base64\n",
    "\n",
    "def encode_base64(message):\n",
    "    message_bytes = message.encode('ascii')\n",
    "    base64_bytes = base64.b64encode(message_bytes)\n",
    "    base64_message = base64_bytes.decode('ascii') \n",
    "    return base64_message\n",
    "#     return str(base64_bytes, \"utf-8\")\n",
    "    \n",
    "print(encode_base64(f'{client_id}:{client_secret}'))"
   ]
  },
  {
   "cell_type": "code",
   "execution_count": null,
   "metadata": {},
   "outputs": [],
   "source": [
    "# Get the new refresh access token and update - only when request fails \n",
    "def refresh_access_token():   \n",
    "    # build body parameter\n",
    "    body = {\n",
    "        'grant_type': 'refresh_token',\n",
    "        'refresh_token': refresh_token\n",
    "    }\n",
    "    \n",
    "    # base64 string from above encode_base64 function\n",
    "    auth_base64 = encode_base64(f'{client_id}:{client_secret}')\n",
    "    \n",
    "    # build header parameter\n",
    "    header = {\n",
    "        'Authorization': f'Basic {auth_base64}'\n",
    "    }\n",
    "    \n",
    "    request_access_token = requests.post(AUTH_URL, body, headers=header)\n",
    "    request_access_token_data = request_access_token.json()\n",
    "    print(request_access_token_data)\n",
    "    # Update access_token (for step 3)\n",
    "    return request_access_token_data['access_token']"
   ]
  },
  {
   "cell_type": "code",
   "execution_count": null,
   "metadata": {},
   "outputs": [],
   "source": [
    "# Update access token from Step 3\n",
    "access_token = refresh_access_token()\n",
    "\n",
    "# Update headers\n",
    "headers = {'Authorization': f'Bearer {access_token}'}"
   ]
  },
  {
   "cell_type": "markdown",
   "metadata": {},
   "source": [
    "# Data Clean Up"
   ]
  },
  {
   "cell_type": "markdown",
   "metadata": {},
   "source": [
    "Note to self: Write a function that uses map to take the data in array (either array of array or array of object, etc) and apply it in each item in an array - Return me an array from an array with only the pieces I want\n",
    "\n",
    "Instead of define a bunch of empty lists and create a loop to append each item in to each list, this is much cleaner and more efficient"
   ]
  },
  {
   "cell_type": "code",
   "execution_count": null,
   "metadata": {
    "scrolled": true
   },
   "outputs": [],
   "source": [
    "# Map only the datafields I want\n",
    "def track_func(track):\n",
    "#artists = [artist['name'] for artist in track['artists']]\n",
    "# artist['name']\n",
    "# { 'id': artist['id'], 'name': artist['name'] }\n",
    "    artists_id = [  artist['id']  for artist in track['artists'] ]\n",
    "    artists_name = [ artist['name']  for artist in track['artists'] ]\n",
    "    album_id = track['album']['id']\n",
    "    album_name = track['album']['name']\n",
    "    release_date = track['album']['release_date']\n",
    "    song_id = track['id']\n",
    "    title = track['name']\n",
    "    popularity = track['popularity']\n",
    "    duration_ms = track['duration_ms']\n",
    "    song_url = track['external_urls']['spotify']\n",
    "\n",
    "    return {\n",
    "        'song_id': song_id,\n",
    "        'title': title,\n",
    "        'artists_id': str(artists_id)[2:-2],\n",
    "        'artists_name': str(artists_name)[2:-2],\n",
    "        'album_id': album_id,\n",
    "        'album_name':album_name,\n",
    "        'release_date':release_date,\n",
    "        'duration_min': round(duration_ms/60000, 2),\n",
    "        'popularity': popularity,\n",
    "        'song_url': song_url\n",
    "        \n",
    "    }\n",
    "# Use map to give a list iterator\n",
    "track_list_iterator = map(track_func, track_json['items'])\n",
    "# Turn iterator into a list\n",
    "track_list = list(track_list_iterator)\n",
    "track_list"
   ]
  },
  {
   "cell_type": "code",
   "execution_count": null,
   "metadata": {},
   "outputs": [],
   "source": [
    "# Exporat data to JSON\n",
    "with open('data/clean_top_tracks.json', 'w') as outfile:\n",
    "    json.dump(track_list, outfile, indent=2)\n",
    "    \n",
    "# Wahh!! Beautiful!"
   ]
  },
  {
   "cell_type": "code",
   "execution_count": null,
   "metadata": {},
   "outputs": [],
   "source": [
    "# Map only the datafields I want v2 - Combining artists of there's more than 1 artist\n",
    "def track_func2(track):\n",
    "    artists_name = [ artist['name']  for artist in track['artists'] ]\n",
    "    album_name = track['album']['name']\n",
    "    release_date = track['album']['release_date']\n",
    "    title = track['name']\n",
    "    popularity = track['popularity']\n",
    "    duration_ms = track['duration_ms']\n",
    "    song_url = track['external_urls']['spotify']\n",
    "\n",
    "    return {\n",
    "        'title': title,\n",
    "        'artists_name': str(artists_name)[2:-2],\n",
    "        'album_name':album_name,\n",
    "        'release_date':release_date,\n",
    "        'duration_min': round(duration_ms/60000, 2),\n",
    "        'popularity': popularity,\n",
    "        'song_url': song_url\n",
    "    }\n",
    "\n",
    "# Use map to give a list iterator\n",
    "track_list_iterator2 = map(track_func2, track_json['items'])\n",
    "# Turn iterator into a list\n",
    "track_list2 = list(track_list_iterator2)\n",
    "\n",
    "# I need a v2 to serve my immediate purpose\n",
    "with open('data/clean_top_tracks.json', 'w') as outfile:\n",
    "    json.dump(track_list2, outfile, indent=2)"
   ]
  },
  {
   "cell_type": "code",
   "execution_count": null,
   "metadata": {},
   "outputs": [],
   "source": [
    "# Convert the array of data into a dataframe just to look at it\n",
    "top_tracks_df = pd.DataFrame(track_list)\n",
    "top_tracks_df"
   ]
  },
  {
   "cell_type": "markdown",
   "metadata": {},
   "source": [
    "# Future Update\n",
    "To be more efficient and not doing Step 4, consider doing these:\n",
    "- Save the current time + `expires_in` into a variable, `expire_time`.\n",
    "- Evey time you make a request for data, add a line of code that checks \"Is my current time > `expire_time`?\"\n",
    "- If yes, refresh access token and update headers (step 4)"
   ]
  },
  {
   "cell_type": "code",
   "execution_count": null,
   "metadata": {},
   "outputs": [],
   "source": []
  },
  {
   "cell_type": "code",
   "execution_count": null,
   "metadata": {},
   "outputs": [],
   "source": []
  }
 ],
 "metadata": {
  "kernelspec": {
   "display_name": "Python 3",
   "language": "python",
   "name": "python3"
  },
  "language_info": {
   "codemirror_mode": {
    "name": "ipython",
    "version": 3
   },
   "file_extension": ".py",
   "mimetype": "text/x-python",
   "name": "python",
   "nbconvert_exporter": "python",
   "pygments_lexer": "ipython3",
   "version": "3.7.6"
  }
 },
 "nbformat": 4,
 "nbformat_minor": 4
}
