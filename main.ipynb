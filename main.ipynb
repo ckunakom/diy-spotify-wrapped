{
 "cells": [
  {
   "cell_type": "code",
   "execution_count": 2,
   "metadata": {},
   "outputs": [],
   "source": [
    "# Dependencies\n",
    "import requests\n",
    "import json\n",
    "from pprint import pprint\n",
    "from config import client_id, client_secret"
   ]
  },
  {
   "cell_type": "markdown",
   "metadata": {},
   "source": [
    "Following instructions from: https://stmorse.github.io/journal/spotify-api.html\n",
    "AND from Spotify documentation:\n",
    "https://developer.spotify.com/documentation/general/guides/authorization-guide/#list-of-scopes"
   ]
  },
  {
   "cell_type": "markdown",
   "metadata": {},
   "source": [
    "## Authorization flow"
   ]
  },
  {
   "cell_type": "markdown",
   "metadata": {},
   "source": [
    "Step 1: Request authorization to access data. No code. \n",
    "Example Grant access URL:\n",
    "https://accounts.spotify.com/authorize?response_type=code&client_id=5d67ef47a63a42f08feb4c824ee174f7&scope=user-library-read&redirect_uri=https%3A%2F%2Fgoogle.com%2Fcallback&show_dialog=true\n",
    "\n",
    "Once accept, data can now be requested.\n",
    "\n",
    "Note: if changing `scope`, this step and step 2 need to be repeated.\n",
    "Scope for the following:\n",
    "- User's Top Artists and Tracks: `user-top-read`\n",
    "- List of a User's Playlists: `playlist-read-private`"
   ]
  },
  {
   "cell_type": "code",
   "execution_count": 3,
   "metadata": {},
   "outputs": [],
   "source": [
    "# Once access is granted, copy the code from the URL\n",
    "code = 'AQDHk5w01qWgoh8ClHrMHg9arLydL0zy6Zs2l3bl3RP0kEYfdHViimQ1A0aWOwrA30WuMlwoW39eUCPkjhaUwNvjZwwMOtIknkpUnf58oXQxg4twZ-xAahJfdCIqKDTbUVwsdxD4PTprqQ3Jdnv-iLlEgPrhQhRMucCOWVpCE2aRSVOJDWtwuF69ZebIXw'"
   ]
  },
  {
   "cell_type": "markdown",
   "metadata": {},
   "source": [
    "Step 2: Request to get refresh and access token\n",
    "- Make POST request to Spotify on /api/token endpoint\n",
    "- Require parameters specfied accordingly."
   ]
  },
  {
   "cell_type": "code",
   "execution_count": 4,
   "metadata": {},
   "outputs": [],
   "source": [
    "# POST - REQUEST BODY PARAMETER, skipping header parameter using alternative way\n",
    "request_body_parameter = {\n",
    "    'grant_type': 'authorization_code',\n",
    "    'code': code,\n",
    "    'redirect_uri': 'https://google.com/callback',\n",
    "    'client_id': client_id,\n",
    "    'client_secret': client_secret,\n",
    "}"
   ]
  },
  {
   "cell_type": "code",
   "execution_count": 5,
   "metadata": {},
   "outputs": [
    {
     "name": "stdout",
     "output_type": "stream",
     "text": [
      "{'access_token': 'BQDiFXFPKMyXpLcZJAab7crMEaGXRRA4eOj4iyDcpKaTudLEFIiBI47sfgPik6GRw9pe5jjbhQJcCKhzAhl7BvWVKGf_Tjz-S502zsVis-CXDJGU7-_E7209s_Iuo-aHLUZLPymq3WmJ22J0oiQ', 'token_type': 'Bearer', 'expires_in': 3600, 'refresh_token': 'AQA1YePrNTTY_I-kOBiWb-fk9Wm6F-mOjvfSTm25jjVvfgqtkkQVs-HESP_zRW802itP0DKSqIOhTA43yj9Y66fpM86y6nmfaAgqFKoq31kc7p5ftqF8Md6PiVJcmTQD-To', 'scope': 'user-top-read'}\n"
     ]
    }
   ],
   "source": [
    "# Pass an access token - POST a request with client credentials and save part of response\n",
    "AUTH_URL = 'https://accounts.spotify.com/api/token'\n",
    "\n",
    "# POST - REQUEST BODY PARAMETER\n",
    "auth_response = requests.post(AUTH_URL, request_body_parameter)\n",
    "\n",
    "# convert the response to JSON\n",
    "auth_response_data = auth_response.json()\n",
    "\n",
    "# Try print it out to get refresh_token\n",
    "print(auth_response_data)"
   ]
  },
  {
   "cell_type": "code",
   "execution_count": 6,
   "metadata": {},
   "outputs": [],
   "source": [
    "# Save the access token\n",
    "access_token = auth_response_data['access_token']\n",
    "\n",
    "# Save the refresh token\n",
    "refresh_token = auth_response_data['refresh_token']"
   ]
  },
  {
   "cell_type": "markdown",
   "metadata": {},
   "source": [
    "Step 3: Use access token to access data of interests(?)\n",
    "Note: when access token expires, it can't be used anymore."
   ]
  },
  {
   "cell_type": "markdown",
   "metadata": {},
   "source": [
    "#### Get a User's Top Artists and Tracks"
   ]
  },
  {
   "cell_type": "code",
   "execution_count": 19,
   "metadata": {},
   "outputs": [],
   "source": [
    "# Form GET request to API server with access_token in the header\n",
    "headers = {\n",
    "    'Authorization': f'Bearer {access_token}'\n",
    "}\n",
    "\n",
    "# base URL of all Spotify API endpoints\n",
    "base_url = 'https://api.spotify.com/v1/'\n",
    "\n",
    "# user's top track\n",
    "top_track = 'me/top/tracks'\n",
    "time_range = 'time_range=medium_term'\n",
    "limit = 'limit=50'\n",
    "# offset = "
   ]
  },
  {
   "cell_type": "code",
   "execution_count": 20,
   "metadata": {},
   "outputs": [],
   "source": [
    "track_json = requests.get(base_url + top_track + '?' + time_range + '&' + limit\n",
    "                          , headers=headers).json()"
   ]
  },
  {
   "cell_type": "code",
   "execution_count": 25,
   "metadata": {},
   "outputs": [],
   "source": [
    "# Save outout to text file to go parse later...\n",
    "with open('top_tracks.json', 'w') as outfile:\n",
    "    json.dump(track_json, outfile, indent=2)"
   ]
  },
  {
   "cell_type": "code",
   "execution_count": 15,
   "metadata": {
    "scrolled": false
   },
   "outputs": [],
   "source": []
  },
  {
   "cell_type": "markdown",
   "metadata": {},
   "source": [
    "Step 4: When access token expires, refresh token to the rescue (from step 2)"
   ]
  },
  {
   "cell_type": "code",
   "execution_count": null,
   "metadata": {},
   "outputs": [],
   "source": [
    "# Base 64 encoded string that contains the client ID and client secret key.\n",
    "import base64\n",
    "\n",
    "def encode_base64(message):\n",
    "    message_bytes = message.encode('ascii')\n",
    "    base64_bytes = base64.b64encode(message_bytes)\n",
    "    base64_message = base64_bytes.decode('ascii') \n",
    "    return base64_message\n",
    "#     return str(base64_bytes, \"utf-8\")\n",
    "    \n",
    "print(encode_base64(f'{client_id}:{client_secret}'))"
   ]
  },
  {
   "cell_type": "code",
   "execution_count": null,
   "metadata": {},
   "outputs": [],
   "source": [
    "# Get the new refresh access token and update - only when request fails \n",
    "def refresh_access_token():   \n",
    "    # build body parameter\n",
    "    body = {\n",
    "        'grant_type': 'refresh_token',\n",
    "        'refresh_token': refresh_token\n",
    "    }\n",
    "    \n",
    "    # base64 string from above encode_base64 function\n",
    "    auth_base64 = encode_base64(f'{client_id}:{client_secret}')\n",
    "    \n",
    "    # build header parameter\n",
    "    header = {\n",
    "        'Authorization': f'Basic {auth_base64}'\n",
    "    }\n",
    "    \n",
    "    request_access_token = requests.post(AUTH_URL, body, headers=header)\n",
    "    request_access_token_data = request_access_token.json()\n",
    "    # Update access_token (for step 3)\n",
    "    access_token = request_access_token_data['access_token']\n",
    "    # Update headers (for step 3)\n",
    "    headers = {\n",
    "    'Authorization': f'Bearer {access_token}'\n",
    "    }\n",
    "    \n",
    "refresh_access_token()"
   ]
  },
  {
   "cell_type": "code",
   "execution_count": null,
   "metadata": {},
   "outputs": [],
   "source": []
  },
  {
   "cell_type": "code",
   "execution_count": null,
   "metadata": {},
   "outputs": [],
   "source": []
  },
  {
   "cell_type": "code",
   "execution_count": null,
   "metadata": {},
   "outputs": [],
   "source": []
  }
 ],
 "metadata": {
  "kernelspec": {
   "display_name": "Python 3",
   "language": "python",
   "name": "python3"
  },
  "language_info": {
   "codemirror_mode": {
    "name": "ipython",
    "version": 3
   },
   "file_extension": ".py",
   "mimetype": "text/x-python",
   "name": "python",
   "nbconvert_exporter": "python",
   "pygments_lexer": "ipython3",
   "version": "3.6.10"
  }
 },
 "nbformat": 4,
 "nbformat_minor": 4
}
